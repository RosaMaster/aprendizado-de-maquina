{
  "nbformat": 4,
  "nbformat_minor": 0,
  "metadata": {
    "colab": {
      "provenance": [],
      "collapsed_sections": []
    },
    "kernelspec": {
      "name": "python3",
      "display_name": "Python 3"
    },
    "language_info": {
      "name": "python"
    }
  },
  "cells": [
    {
      "cell_type": "markdown",
      "source": [
        "## COM410 - Aprendizado de Máquinas - Semana 7\n",
        "### Tutorial da videoaula 18: Comparação de Modelos Preditivos\n"
      ],
      "metadata": {
        "id": "wNDawcAp0NGw"
      }
    },
    {
      "cell_type": "markdown",
      "source": [
        "Nesta aula, vamos comparar o desempenho dos algoritmos de classificação k-NN, SVM e RandomForest usando algumas métricas de desempenho. Vamos usar um conjunto de dados sobre a qualidade de vinhos, muito usado para avaliar algoritmos de classificação. \n",
        "\n",
        "Sobre o Google Colab, recomendamos que, se necessário, reveja a videoaula Jupyter Notebook e Colab Google, videoaula 4 do curso COM350 - Introdução à Ciência de Dados (https://youtu.be/ZC8bfSZLl80) ou acesse a ferramenta no site https://colab.research.google.com/. Caso não tenha uma conta Google ou não queira usar, pode fazer também no Jupyter Notebook. \n",
        "\n",
        "#### Qualidade de vinhos tintos\n",
        "\n",
        "#### O conjunto de dados usado neste caderno está disponível em:\n",
        "\n",
        "https://raw.githubusercontent.com/higoramario/univesp-com410-aprendizado-de-maquinas/main/vinhos-binario.csv\n",
        "\n",
        "#### O conjunto de dados modificado para classificação binária está em:\n",
        "https://www.kaggle.com/datasets/nareshbhat/wine-quality-binary-classification\n",
        "\n",
        "Fonte: Naresha Bhat, Kaggle.\n",
        "\n",
        "#### URL original do conjunto de dados\n",
        "https://archive.ics.uci.edu/ml/machine-learning-databases/wine-quality/winequality-red.csv\n",
        "\n",
        "Fonte: UCI Machine Learning Repository, Centro para Aprendizado de Máquina e Sistemas Inteligentes, Universidade da Califórnia, Irvine.\n",
        "\n",
        "Descrição dos atributos da base de dados: \n",
        "- **fixed acidity** (acidez fixa)\n",
        "- **volatile acidity** (acidez volátil)\n",
        "- **citric acid** (acidez cítrica)\n",
        "- **residual sugar** (açúcar residual)\n",
        "- **chlorides** (cloretos)\n",
        "- **free sulfur dioxide** (dióxido de enxofre livre)\n",
        "- **total sulfur dioxide** (dióxido de enxofre total)\n",
        "- **density** (densidade)\n",
        "- **pH**\n",
        "- **sulphates** (sulfatos)\n",
        "- **alcohol** (álcool)\n",
        "Atributo classe:\n",
        "- **quality (score 0 or 1)** (qualidade - pontuação 0 (ruim, notas <= 5) ou 1 (bom, notas > 5))\n"
      ],
      "metadata": {
        "id": "Uv1GHb4h1bOd"
      }
    },
    {
      "cell_type": "markdown",
      "source": [
        "#### 1. Nesta atividade, usaremos as bibliotecas **scikit-learn**, **pandas** e **matplotlib**. Importe as bibliotecas."
      ],
      "metadata": {
        "id": "e7RIq9Gz1lxr"
      }
    },
    {
      "cell_type": "code",
      "execution_count": 2,
      "metadata": {
        "id": "ATX_300HqnWT"
      },
      "outputs": [],
      "source": [
        "import pandas as pd\n",
        "import matplotlib.pyplot as plt\n",
        "from sklearn.model_selection import train_test_split, cross_val_score\n",
        "from sklearn.svm import SVC\n",
        "from sklearn.neighbors import KNeighborsClassifier\n",
        "from sklearn.ensemble import RandomForestClassifier\n",
        "from sklearn.metrics import accuracy_score, classification_report, RocCurveDisplay\n",
        "from sklearn.preprocessing import StandardScaler\n",
        "\n",
        "plt.rcParams['figure.figsize']=[15,10]\n",
        "plt.rcParams.update({'font.size': 18})"
      ]
    },
    {
      "cell_type": "markdown",
      "source": [
        "#### 2. Importe a base de dados direto da URL e verifique as primeiras linhas. O arquivo contém 1599 registros. "
      ],
      "metadata": {
        "id": "DDvWU0AzqB0T"
      }
    },
    {
      "cell_type": "code",
      "source": [
        "url = 'https://raw.githubusercontent.com/higoramario/univesp-com410-aprendizado-de-maquinas/main/vinhos-binario.csv'\n",
        "vinhos = pd.read_csv(url, sep=',')\n",
        "vinhos.head(10)"
      ],
      "metadata": {
        "id": "UrIpWi28mbrs"
      },
      "execution_count": null,
      "outputs": []
    },
    {
      "cell_type": "code",
      "source": [
        "vinhos.info()"
      ],
      "metadata": {
        "id": "NXJ5_BfTOPHF"
      },
      "execution_count": null,
      "outputs": []
    },
    {
      "cell_type": "markdown",
      "source": [
        "#### 3. Separando os atributos dos rótulos e separando os dados de treinamento (90%) e teste (10%)"
      ],
      "metadata": {
        "id": "2AikzQt6sis6"
      }
    },
    {
      "cell_type": "code",
      "source": [
        "vinhos_atributos = vinhos.iloc[:,:11]\n",
        "vinhos_classes = vinhos['quality']"
      ],
      "metadata": {
        "id": "STCTBfleQJNI"
      },
      "execution_count": 6,
      "outputs": []
    },
    {
      "cell_type": "code",
      "source": [
        "vinhos_treino, vinhos_teste, classes_treino, classes_teste = train_test_split(vinhos_atributos, vinhos_classes, test_size = 0.1)"
      ],
      "metadata": {
        "id": "YssduFj_T7qc"
      },
      "execution_count": 118,
      "outputs": []
    },
    {
      "cell_type": "markdown",
      "source": [
        "#### 4. Diminuindo a escala dos dados para melhorar o treinamento."
      ],
      "metadata": {
        "id": "uwkoSMHARlRV"
      }
    },
    {
      "cell_type": "code",
      "source": [
        "scaler = StandardScaler()\n",
        "vinhos_treino = scaler.fit_transform(vinhos_treino)\n",
        "vinhos_teste = scaler.transform(vinhos_teste)"
      ],
      "metadata": {
        "id": "pjJ1Mszn-iau"
      },
      "execution_count": 119,
      "outputs": []
    },
    {
      "cell_type": "markdown",
      "source": [
        "#### 5. Vamos começar com o algoritmo k-NN"
      ],
      "metadata": {
        "id": "dn4wQR2Ounj1"
      }
    },
    {
      "cell_type": "code",
      "source": [
        "modelo_kNN = KNeighborsClassifier(n_neighbors = 20)\n",
        "modelo_kNN.fit(vinhos_treino, classes_treino)"
      ],
      "metadata": {
        "id": "aB5elnjE_3Cx"
      },
      "execution_count": null,
      "outputs": []
    },
    {
      "cell_type": "markdown",
      "source": [
        "#### 6. Verificando a acurácia de classificação do k-NN"
      ],
      "metadata": {
        "id": "AQYhwOpnvNtC"
      }
    },
    {
      "cell_type": "code",
      "source": [
        "predicao_kNN = modelo_kNN.predict(vinhos_teste)\n",
        "acuracia_kNN = accuracy_score(classes_teste, predicao_kNN)\n",
        "print('Acurácia de classificação k-NN: {}'.format(round(acuracia_kNN, 3)*100)+'%')"
      ],
      "metadata": {
        "id": "ca3GHjVGBCDg"
      },
      "execution_count": null,
      "outputs": []
    },
    {
      "cell_type": "markdown",
      "source": [
        "#### 7. A função **classification_report** traz, além da acurácia, os valores de precisão, revogação e medida F1 obtidas para cada classe"
      ],
      "metadata": {
        "id": "gOL4UYJEwLVH"
      }
    },
    {
      "cell_type": "code",
      "source": [
        "print(classification_report(classes_teste, predicao_kNN))"
      ],
      "metadata": {
        "id": "IdOjgRh_AyS5"
      },
      "execution_count": null,
      "outputs": []
    },
    {
      "cell_type": "markdown",
      "source": [
        "#### 8. Outra forma de avaliar os resultados é usar a validação cruzada, que permite ver a acurácia de classificação com diferentes partições dos dados"
      ],
      "metadata": {
        "id": "EVfuQOZhxEKd"
      }
    },
    {
      "cell_type": "code",
      "source": [
        "cross_val_score(modelo_kNN, vinhos_treino, classes_treino, cv=10)"
      ],
      "metadata": {
        "id": "NJe-4LbAX0aO"
      },
      "execution_count": null,
      "outputs": []
    },
    {
      "cell_type": "markdown",
      "source": [
        "#### 9. Vamos olhar também a curva ROC obtida pelo k-NN para esses dados. Aqui, passamos o modelo a ser treinado e os dados de teste para a função **from_estimator** da classe **RocCurveDisplay**. No gráfico gerado, podemos o valor AUC (área sob a curva) obtido. Quanto mais perto de 1.0 (céu ROC), melhor."
      ],
      "metadata": {
        "id": "WHQdLTbxyJ1h"
      }
    },
    {
      "cell_type": "code",
      "source": [
        "RocCurveDisplay.from_estimator(modelo_kNN.fit(vinhos_treino, classes_treino), vinhos_teste, classes_teste)\n",
        "plt.show()"
      ],
      "metadata": {
        "id": "p22egc-HX0Kx"
      },
      "execution_count": null,
      "outputs": []
    },
    {
      "cell_type": "markdown",
      "source": [
        "#### 10. Vamos classificar usando SVM, treinando o modelo com a função kernel linear.\n"
      ],
      "metadata": {
        "id": "FMzIfM1NkIr4"
      }
    },
    {
      "cell_type": "code",
      "source": [
        "modelo_SVM = SVC(kernel = 'linear')\n",
        "modelo_SVM.fit(vinhos_treino, classes_treino)"
      ],
      "metadata": {
        "id": "wV9zK-XxcJYA"
      },
      "execution_count": null,
      "outputs": []
    },
    {
      "cell_type": "markdown",
      "source": [
        "#### 11. Acurácia de classificação com SVM"
      ],
      "metadata": {
        "id": "e9-p9Dyp0_-B"
      }
    },
    {
      "cell_type": "code",
      "source": [
        "predicao_SVM = modelo_SVM.predict(vinhos_teste)\n",
        "acuracia_SVM = accuracy_score(classes_teste, predicao_SVM)\n",
        "print('Acurácia de classificação SVM: {}'.format(round(acuracia_SVM,3)*100)+'%')"
      ],
      "metadata": {
        "id": "LJQyEFP9cJMX"
      },
      "execution_count": null,
      "outputs": []
    },
    {
      "cell_type": "markdown",
      "source": [
        "#### 12. Precisão, revogação e medida F1"
      ],
      "metadata": {
        "id": "8Im7LSKV4eHN"
      }
    },
    {
      "cell_type": "code",
      "source": [
        "print(classification_report(classes_teste, predicao_SVM))"
      ],
      "metadata": {
        "id": "KWaBmmsUcJBf"
      },
      "execution_count": null,
      "outputs": []
    },
    {
      "cell_type": "markdown",
      "source": [
        "#### 13. Usando validação cruzada"
      ],
      "metadata": {
        "id": "ifvwVZK758Ck"
      }
    },
    {
      "cell_type": "code",
      "source": [
        "cross_val_score(modelo_SVM, vinhos_treino, classes_treino, cv=10)"
      ],
      "metadata": {
        "id": "MtK5ICp9fCBy"
      },
      "execution_count": null,
      "outputs": []
    },
    {
      "cell_type": "markdown",
      "source": [
        "#### 14. Curva ROC"
      ],
      "metadata": {
        "id": "sh-8jkoE6QZT"
      }
    },
    {
      "cell_type": "code",
      "source": [
        "RocCurveDisplay.from_estimator(modelo_SVM.fit(vinhos_treino, classes_treino), vinhos_teste, classes_teste)\n",
        "plt.show()"
      ],
      "metadata": {
        "id": "UmhbHz01emYU"
      },
      "execution_count": null,
      "outputs": []
    },
    {
      "cell_type": "markdown",
      "source": [
        "#### 15. Vamos fazer a classificação usando o algoritmo Random Forest"
      ],
      "metadata": {
        "id": "49VX1Aq_7WZ0"
      }
    },
    {
      "cell_type": "code",
      "source": [
        "modelo_RF = RandomForestClassifier()\n",
        "modelo_RF.fit(vinhos_treino, classes_treino)"
      ],
      "metadata": {
        "id": "TpKLZ4N6g4b-"
      },
      "execution_count": null,
      "outputs": []
    },
    {
      "cell_type": "markdown",
      "source": [
        "#### 16. Acurácia de classificação com Random Forest"
      ],
      "metadata": {
        "id": "N2S3u_qpkTL6"
      }
    },
    {
      "cell_type": "code",
      "source": [
        "predicao_RF = modelo_RF.predict(vinhos_teste)\n",
        "acuracia_RF = accuracy_score(classes_teste, predicao_RF)\n",
        "print('Acurácia de classificação RF: {}'.format(round(acuracia_RF,3)*100)+'%')"
      ],
      "metadata": {
        "id": "LjTQ_gCgcELg"
      },
      "execution_count": null,
      "outputs": []
    },
    {
      "cell_type": "markdown",
      "source": [
        "#### 17. Precisão, revocação e medida F1"
      ],
      "metadata": {
        "id": "b-QMplxc9LMk"
      }
    },
    {
      "cell_type": "code",
      "source": [
        "print(classification_report(classes_teste, predicao_RF))"
      ],
      "metadata": {
        "id": "u4ZZ1VFchp90"
      },
      "execution_count": null,
      "outputs": []
    },
    {
      "cell_type": "markdown",
      "source": [
        "#### 18. Validação cruzada"
      ],
      "metadata": {
        "id": "qArvo-ZI-0Vf"
      }
    },
    {
      "cell_type": "code",
      "source": [
        "cross_val_score(modelo_RF, vinhos_treino, classes_treino, cv=10)"
      ],
      "metadata": {
        "id": "stYzVJShXzXc"
      },
      "execution_count": null,
      "outputs": []
    },
    {
      "cell_type": "markdown",
      "source": [
        "#### 19. Curva ROC"
      ],
      "metadata": {
        "id": "t9RbiYG4_jBP"
      }
    },
    {
      "cell_type": "code",
      "source": [
        "RocCurveDisplay.from_estimator(modelo_RF.fit(vinhos_treino, classes_treino), vinhos_teste, classes_teste)\n",
        "plt.show()"
      ],
      "metadata": {
        "id": "jtzn5CASiOBK"
      },
      "execution_count": null,
      "outputs": []
    },
    {
      "cell_type": "markdown",
      "source": [
        "De forma geral, os resultados obtidos pelos classificadores para as diferentes métricas de desempenho foram parecidos para este conjunto de dados.\n",
        "\n",
        "Experimente alterar os parâmetros dos algoritmos para ver se consegue melhores resultados."
      ],
      "metadata": {
        "id": "xMvmfJ6N4yld"
      }
    },
    {
      "cell_type": "markdown",
      "source": [
        "**Versões das bibliotecas**\n",
        "\n",
        "Esse tutorial está usando as seguintes versões de bibliotecas: \n",
        "\n",
        "matplotlib==3.2.2\n",
        "\n",
        "pandas==1.3.5\n",
        "\n",
        "scikit-learn==1.0.2"
      ],
      "metadata": {
        "id": "5jA3cUIS-Vj4"
      }
    }
  ]
}